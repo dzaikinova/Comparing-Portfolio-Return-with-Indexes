{
 "cells": [
  {
   "cell_type": "code",
   "execution_count": 1,
   "id": "d060f8dd",
   "metadata": {},
   "outputs": [],
   "source": [
    "import pandas as pd\n",
    "import numpy as np\n",
    "import seaborn as sns\n",
    "import matplotlib.pyplot as plt\n",
    "from sklearn.decomposition import PCA\n",
    "from sklearn.ensemble import IsolationForest\n",
    "from scipy.stats import shapiro \n",
    "import scipy.stats as stats\n",
    "import random\n",
    "from random import choice\n",
    "from sklearn.ensemble import RandomForestRegressor\n",
    "from sklearn.model_selection import train_test_split\n",
    "from sklearn.metrics import mean_squared_error\n",
    "from pycaret.classification import *"
   ]
  },
  {
   "cell_type": "code",
   "execution_count": 2,
   "id": "d1d9d049",
   "metadata": {},
   "outputs": [],
   "source": [
    "df = pd.read_csv('/Users/darigazaikenova/PycharmProjects/TEST_Trader_Quant_dataset.csv')"
   ]
  },
  {
   "cell_type": "code",
   "execution_count": 3,
   "id": "718b0206",
   "metadata": {
    "scrolled": true
   },
   "outputs": [
    {
     "data": {
      "text/html": [
       "<div>\n",
       "<style scoped>\n",
       "    .dataframe tbody tr th:only-of-type {\n",
       "        vertical-align: middle;\n",
       "    }\n",
       "\n",
       "    .dataframe tbody tr th {\n",
       "        vertical-align: top;\n",
       "    }\n",
       "\n",
       "    .dataframe thead th {\n",
       "        text-align: right;\n",
       "    }\n",
       "</style>\n",
       "<table border=\"1\" class=\"dataframe\">\n",
       "  <thead>\n",
       "    <tr style=\"text-align: right;\">\n",
       "      <th></th>\n",
       "      <th>1</th>\n",
       "      <th>2</th>\n",
       "      <th>3</th>\n",
       "      <th>4</th>\n",
       "      <th>5</th>\n",
       "      <th>6</th>\n",
       "      <th>7</th>\n",
       "      <th>8</th>\n",
       "      <th>9</th>\n",
       "      <th>10</th>\n",
       "      <th>...</th>\n",
       "      <th>47</th>\n",
       "      <th>48</th>\n",
       "      <th>49</th>\n",
       "      <th>50</th>\n",
       "      <th>51</th>\n",
       "      <th>52</th>\n",
       "      <th>53</th>\n",
       "      <th>54</th>\n",
       "      <th>55</th>\n",
       "      <th>56</th>\n",
       "    </tr>\n",
       "  </thead>\n",
       "  <tbody>\n",
       "    <tr>\n",
       "      <th>0</th>\n",
       "      <td>74.23525</td>\n",
       "      <td>124.000</td>\n",
       "      <td>23.000</td>\n",
       "      <td>149.187</td>\n",
       "      <td>7.459</td>\n",
       "      <td>7.872</td>\n",
       "      <td>257.347</td>\n",
       "      <td>77.510</td>\n",
       "      <td>86.753</td>\n",
       "      <td>0</td>\n",
       "      <td>...</td>\n",
       "      <td>15582</td>\n",
       "      <td>6.8649</td>\n",
       "      <td>44</td>\n",
       "      <td>533</td>\n",
       "      <td>201481</td>\n",
       "      <td>85873</td>\n",
       "      <td>42474</td>\n",
       "      <td>237989</td>\n",
       "      <td>69445</td>\n",
       "      <td>33461</td>\n",
       "    </tr>\n",
       "    <tr>\n",
       "      <th>1</th>\n",
       "      <td>74.17525</td>\n",
       "      <td>33.105</td>\n",
       "      <td>280.280</td>\n",
       "      <td>133.749</td>\n",
       "      <td>0.709</td>\n",
       "      <td>31.305</td>\n",
       "      <td>87.454</td>\n",
       "      <td>51.044</td>\n",
       "      <td>130.774</td>\n",
       "      <td>2</td>\n",
       "      <td>...</td>\n",
       "      <td>13398</td>\n",
       "      <td>6.8589</td>\n",
       "      <td>45012</td>\n",
       "      <td>63355</td>\n",
       "      <td>230732</td>\n",
       "      <td>84898</td>\n",
       "      <td>45959</td>\n",
       "      <td>155027</td>\n",
       "      <td>45111</td>\n",
       "      <td>44533</td>\n",
       "    </tr>\n",
       "    <tr>\n",
       "      <th>2</th>\n",
       "      <td>74.18325</td>\n",
       "      <td>375.086</td>\n",
       "      <td>323.644</td>\n",
       "      <td>170.037</td>\n",
       "      <td>3.999</td>\n",
       "      <td>25.476</td>\n",
       "      <td>168.794</td>\n",
       "      <td>72.876</td>\n",
       "      <td>270.396</td>\n",
       "      <td>2</td>\n",
       "      <td>...</td>\n",
       "      <td>12777</td>\n",
       "      <td>6.8595</td>\n",
       "      <td>27710</td>\n",
       "      <td>55091</td>\n",
       "      <td>247450</td>\n",
       "      <td>98765</td>\n",
       "      <td>43705</td>\n",
       "      <td>206995</td>\n",
       "      <td>74398</td>\n",
       "      <td>42840</td>\n",
       "    </tr>\n",
       "    <tr>\n",
       "      <th>3</th>\n",
       "      <td>74.17625</td>\n",
       "      <td>48.775</td>\n",
       "      <td>25.853</td>\n",
       "      <td>93.927</td>\n",
       "      <td>39.872</td>\n",
       "      <td>14.148</td>\n",
       "      <td>72.699</td>\n",
       "      <td>65.654</td>\n",
       "      <td>352.091</td>\n",
       "      <td>0</td>\n",
       "      <td>...</td>\n",
       "      <td>14498</td>\n",
       "      <td>6.8595</td>\n",
       "      <td>32364</td>\n",
       "      <td>39759</td>\n",
       "      <td>237211</td>\n",
       "      <td>95343</td>\n",
       "      <td>35553</td>\n",
       "      <td>217658</td>\n",
       "      <td>75365</td>\n",
       "      <td>53509</td>\n",
       "    </tr>\n",
       "    <tr>\n",
       "      <th>4</th>\n",
       "      <td>74.17125</td>\n",
       "      <td>48.774</td>\n",
       "      <td>301.886</td>\n",
       "      <td>90.637</td>\n",
       "      <td>30.003</td>\n",
       "      <td>20.829</td>\n",
       "      <td>201.224</td>\n",
       "      <td>24.241</td>\n",
       "      <td>96.640</td>\n",
       "      <td>0</td>\n",
       "      <td>...</td>\n",
       "      <td>14704</td>\n",
       "      <td>6.8583</td>\n",
       "      <td>17667</td>\n",
       "      <td>52192</td>\n",
       "      <td>236698</td>\n",
       "      <td>102647</td>\n",
       "      <td>44195</td>\n",
       "      <td>196868</td>\n",
       "      <td>74185</td>\n",
       "      <td>19152</td>\n",
       "    </tr>\n",
       "  </tbody>\n",
       "</table>\n",
       "<p>5 rows × 56 columns</p>\n",
       "</div>"
      ],
      "text/plain": [
       "          1        2        3        4       5       6        7       8  \\\n",
       "0  74.23525  124.000   23.000  149.187   7.459   7.872  257.347  77.510   \n",
       "1  74.17525   33.105  280.280  133.749   0.709  31.305   87.454  51.044   \n",
       "2  74.18325  375.086  323.644  170.037   3.999  25.476  168.794  72.876   \n",
       "3  74.17625   48.775   25.853   93.927  39.872  14.148   72.699  65.654   \n",
       "4  74.17125   48.774  301.886   90.637  30.003  20.829  201.224  24.241   \n",
       "\n",
       "         9  10  ...     47      48     49     50      51      52     53  \\\n",
       "0   86.753   0  ...  15582  6.8649     44    533  201481   85873  42474   \n",
       "1  130.774   2  ...  13398  6.8589  45012  63355  230732   84898  45959   \n",
       "2  270.396   2  ...  12777  6.8595  27710  55091  247450   98765  43705   \n",
       "3  352.091   0  ...  14498  6.8595  32364  39759  237211   95343  35553   \n",
       "4   96.640   0  ...  14704  6.8583  17667  52192  236698  102647  44195   \n",
       "\n",
       "       54     55     56  \n",
       "0  237989  69445  33461  \n",
       "1  155027  45111  44533  \n",
       "2  206995  74398  42840  \n",
       "3  217658  75365  53509  \n",
       "4  196868  74185  19152  \n",
       "\n",
       "[5 rows x 56 columns]"
      ]
     },
     "execution_count": 3,
     "metadata": {},
     "output_type": "execute_result"
    }
   ],
   "source": [
    "df.head()"
   ]
  },
  {
   "cell_type": "markdown",
   "id": "482d09ee",
   "metadata": {},
   "source": [
    "## Identifying outliers and reducing the dimensionality of the data"
   ]
  },
  {
   "cell_type": "code",
   "execution_count": 4,
   "id": "d7cc3e23",
   "metadata": {},
   "outputs": [],
   "source": [
    "df.dropna(inplace=True)"
   ]
  },
  {
   "cell_type": "markdown",
   "id": "b86725f8",
   "metadata": {},
   "source": [
    "##### Isolation Forest and Principal Component Analysis (PCA)"
   ]
  },
  {
   "cell_type": "markdown",
   "id": "27afe411",
   "metadata": {},
   "source": [
    "Isolation Forest is used to identify the anomalies/outliers of the data. And the PCA is used to visualise the anomalies and the normal data in 2D"
   ]
  },
  {
   "cell_type": "code",
   "execution_count": 5,
   "id": "e92f150b",
   "metadata": {
    "scrolled": true
   },
   "outputs": [
    {
     "data": {
      "image/png": "[encoded data removed]",
      "text/plain": [
       "<Figure size 432x288 with 1 Axes>"
      ]
     },
     "metadata": {
      "needs_background": "light"
     },
     "output_type": "display_data"
    }
   ],
   "source": [
    "# Isolation Forest model to identify outliers\n",
    "model = IsolationForest(n_estimators=100, contamination=0.05, random_state=42)\n",
    "model.fit(df.values)\n",
    "outliers = df[model.predict(df.values) == -1]\n",
    "\n",
    "# PCA - transforming df and outliers into 2D\n",
    "pca = PCA(n_components=2)\n",
    "pca_df = pca.fit_transform(df)\n",
    "pca_outliers = pca.transform(outliers)\n",
    "\n",
    "# Scatter Plot\n",
    "plt.scatter(pca_df[:,0], pca_df[:,1], s=10, label = 'Normal')\n",
    "plt.scatter(pca_outliers[:,0], pca_outliers[:,1], s=20, c='r', label='Anomality')\n",
    "plt.title('Normal and Anomalous data')\n",
    "plt.legend()\n",
    "plt.show()\n"
   ]
  },
  {
   "cell_type": "markdown",
   "id": "cb6a6335",
   "metadata": {},
   "source": [
    "Most of the abnormal data is coming from the left side of the plot which means that there is some underlying pattern or structure in the high-dimensional time series data that separates the abnormal data from the normal data. This could be due to differences in the values or patterns in specific columns or groups of columns."
   ]
  },
  {
   "cell_type": "markdown",
   "id": "edc1712a",
   "metadata": {},
   "source": [
    "##### Identifying the columns responsible for abnormalities"
   ]
  },
  {
   "cell_type": "code",
   "execution_count": 6,
   "id": "b0e612f5",
   "metadata": {
    "scrolled": true
   },
   "outputs": [
    {
     "data": {
      "text/html": [
       "<div>\n",
       "<style scoped>\n",
       "    .dataframe tbody tr th:only-of-type {\n",
       "        vertical-align: middle;\n",
       "    }\n",
       "\n",
       "    .dataframe tbody tr th {\n",
       "        vertical-align: top;\n",
       "    }\n",
       "\n",
       "    .dataframe thead th {\n",
       "        text-align: right;\n",
       "    }\n",
       "</style>\n",
       "<table border=\"1\" class=\"dataframe\">\n",
       "  <thead>\n",
       "    <tr style=\"text-align: right;\">\n",
       "      <th></th>\n",
       "      <th>Feature Name</th>\n",
       "      <th>Importance</th>\n",
       "    </tr>\n",
       "  </thead>\n",
       "  <tbody>\n",
       "    <tr>\n",
       "      <th>0</th>\n",
       "      <td>32</td>\n",
       "      <td>0.060903</td>\n",
       "    </tr>\n",
       "    <tr>\n",
       "      <th>1</th>\n",
       "      <td>31</td>\n",
       "      <td>0.053078</td>\n",
       "    </tr>\n",
       "    <tr>\n",
       "      <th>2</th>\n",
       "      <td>50</td>\n",
       "      <td>0.022604</td>\n",
       "    </tr>\n",
       "    <tr>\n",
       "      <th>3</th>\n",
       "      <td>49</td>\n",
       "      <td>0.020767</td>\n",
       "    </tr>\n",
       "    <tr>\n",
       "      <th>4</th>\n",
       "      <td>41</td>\n",
       "      <td>0.003171</td>\n",
       "    </tr>\n",
       "  </tbody>\n",
       "</table>\n",
       "</div>"
      ],
      "text/plain": [
       "  Feature Name  Importance\n",
       "0           32    0.060903\n",
       "1           31    0.053078\n",
       "2           50    0.022604\n",
       "3           49    0.020767\n",
       "4           41    0.003171"
      ]
     },
     "execution_count": 6,
     "metadata": {},
     "output_type": "execute_result"
    }
   ],
   "source": [
    "loadings = pca.components_[0]\n",
    "\n",
    "# sorting the loadings in descending order of absolute values\n",
    "sorted_indices = loadings.argsort()[::-1]\n",
    "sorted_loadings = loadings[sorted_indices]\n",
    "\n",
    "col_names = list(df.columns)\n",
    "anomaly = [{'Feature Name': col_names[i], 'Importance': loading} for i, loading in zip(sorted_indices, sorted_loadings)]\n",
    "df_anomaly = pd.DataFrame(anomaly)\n",
    "df_anomaly.head()"
   ]
  },
  {
   "cell_type": "markdown",
   "id": "e0f19009",
   "metadata": {},
   "source": [
    "To conclude, the feature that is the most responsible for abnormalities in the dataset is column '32'"
   ]
  },
  {
   "cell_type": "markdown",
   "id": "20885d4b",
   "metadata": {},
   "source": [
    "## Regression Analysis"
   ]
  },
  {
   "cell_type": "markdown",
   "id": "315ba3cd",
   "metadata": {},
   "source": [
    "##### 1. Check if the data is normally ditributed"
   ]
  },
  {
   "cell_type": "code",
   "execution_count": 7,
   "id": "3a46c7b6",
   "metadata": {
    "scrolled": true
   },
   "outputs": [
    {
     "data": {
      "text/plain": [
       "['20', '29']"
      ]
     },
     "execution_count": 7,
     "metadata": {},
     "output_type": "execute_result"
    }
   ],
   "source": [
    "# normality using Shapiro test\n",
    "\n",
    "normality = {}\n",
    "list1=[]\n",
    "for i in df.columns:\n",
    "    stat, p  = shapiro(df[i])\n",
    "    normality[i] = p\n",
    "\n",
    "key=list(normality.keys())\n",
    "val=list(normality.values())\n",
    "\n",
    "#if p > 0.05, the data in column is normal\n",
    "indices = [i for i, x in enumerate(val) if x > 0.05] \n",
    "norm_col = [key[i] for i in indices]\n",
    "norm_col"
   ]
  },
  {
   "cell_type": "code",
   "execution_count": 8,
   "id": "df673a8f",
   "metadata": {
    "scrolled": true
   },
   "outputs": [
    {
     "data": {
      "image/png": "[encoded data removed]",
      "text/plain": [
       "<Figure size 432x288 with 1 Axes>"
      ]
     },
     "metadata": {
      "needs_background": "light"
     },
     "output_type": "display_data"
    },
    {
     "data": {
      "image/png": "[encoded data removed]",
      "text/plain": [
       "<Figure size 432x288 with 1 Axes>"
      ]
     },
     "metadata": {
      "needs_background": "light"
     },
     "output_type": "display_data"
    },
    {
     "data": {
      "image/png": "[encoded data removed]",
      "text/plain": [
       "<Figure size 432x288 with 1 Axes>"
      ]
     },
     "metadata": {
      "needs_background": "light"
     },
     "output_type": "display_data"
    }
   ],
   "source": [
    "# normality using Q-Q Plot\n",
    "\n",
    "random.seed(123)\n",
    "random_column = str(choice([i for i in range(1,56) if i not in [20,29]]))\n",
    "for i in ['20', '29',random_column]:\n",
    "    stats.probplot(df[i], dist=\"norm\", plot=plt)\n",
    "    plt.title(f\"Q-Q plot for column {i}\")\n",
    "    plt.show()\n"
   ]
  },
  {
   "cell_type": "markdown",
   "id": "62c7378a",
   "metadata": {},
   "source": [
    "According to Shapiro Test and Q-Q Plot, only columns '20' and '29' are normally distributed. Others, are not. For instance, randomly chosen column \"4\" is positively skewed as seen in Q-Q Plot.\n",
    "\n",
    "##### Since most of the data is not normal, I will use the random forest regression analysis. Compared to linear regression, it doesn't require the data to be normal and it can handle the outliers."
   ]
  },
  {
   "cell_type": "markdown",
   "id": "be47878a",
   "metadata": {},
   "source": [
    "#### 2. Correlation and Heatmap\n",
    "Identifying columns with the highest correlation"
   ]
  },
  {
   "cell_type": "code",
   "execution_count": 9,
   "id": "5d889031",
   "metadata": {},
   "outputs": [
    {
     "data": {
      "image/png": "[encoded data removed]",
      "text/plain": [
       "<Figure size 1224x648 with 2 Axes>"
      ]
     },
     "metadata": {
      "needs_background": "light"
     },
     "output_type": "display_data"
    }
   ],
   "source": [
    "corr = df.corr()\n",
    "\n",
    "#fig, ax = plt.subplots(figsize=(17,9)) \n",
    "fig = plt.figure(figsize=(17, 9))\n",
    "ax = sns.heatmap(\n",
    "    corr, \n",
    "    vmin=-1, vmax=1, center=0,\n",
    "    cmap=sns.diverging_palette(20, 220, n=200),\n",
    "    \n",
    ")\n",
    "ax.set_xticklabels(\n",
    "    ax.get_xticklabels(),\n",
    "    rotation=45,\n",
    "    horizontalalignment='right'\n",
    ");\n",
    "ax.set_title('Correlation Heatmap', size=18)\n",
    "plt.show()"
   ]
  },
  {
   "cell_type": "markdown",
   "id": "57a4c4d4",
   "metadata": {},
   "source": [
    "Pair with the Highest Correlation (0.99 and more)"
   ]
  },
  {
   "cell_type": "code",
   "execution_count": 10,
   "id": "005cb207",
   "metadata": {
    "scrolled": true
   },
   "outputs": [
    {
     "data": {
      "text/plain": [
       "[('1', '11'), ('20', '29')]"
      ]
     },
     "execution_count": 10,
     "metadata": {},
     "output_type": "execute_result"
    }
   ],
   "source": [
    "corr_matrix = df.corr()#.abs()\n",
    "high_corr_var = np.where(corr_matrix>0.99)\n",
    "high_corr_var=[(corr_matrix.columns[x],corr_matrix.columns[y]) for x,y in zip(*high_corr_var) if x!=y and x<y]\n",
    "high_corr_var\n",
    "\n",
    "# corr 0.99 and higher is between ('1', '11') and ('20', '29') columns/features"
   ]
  },
  {
   "cell_type": "markdown",
   "id": "925f3e96",
   "metadata": {},
   "source": [
    "Paiir with the Lowest Correlation "
   ]
  },
  {
   "cell_type": "code",
   "execution_count": 11,
   "id": "cfc9be84",
   "metadata": {
    "scrolled": true
   },
   "outputs": [
    {
     "data": {
      "text/plain": [
       "-0.5635393037201831"
      ]
     },
     "execution_count": 11,
     "metadata": {},
     "output_type": "execute_result"
    }
   ],
   "source": [
    "# identifying the minimum correlation in the matrix\n",
    "corr_matrix = df.corr()\n",
    "corr_matrix.describe().loc['min'].min() "
   ]
  },
  {
   "cell_type": "code",
   "execution_count": 12,
   "id": "f01c089f",
   "metadata": {
    "scrolled": true
   },
   "outputs": [
    {
     "data": {
      "text/plain": [
       "[('41', '46')]"
      ]
     },
     "execution_count": 12,
     "metadata": {},
     "output_type": "execute_result"
    }
   ],
   "source": [
    "corr_matrix = df.corr()\n",
    "low_corr_var = np.where(corr_matrix< -0.55)\n",
    "low_corr_var=[(corr_matrix.columns[x],corr_matrix.columns[y]) for x,y in zip(*low_corr_var) if x!=y and x<y]\n",
    "low_corr_var\n",
    "\n",
    "# pair ('41', '46') has the lowest correlation of -0.56"
   ]
  },
  {
   "cell_type": "markdown",
   "id": "aa673705",
   "metadata": {},
   "source": [
    "#### 3. Illustration using Linear Regression\n",
    "Since both columns in the pair ('20', '29') are normally distributed accroding to Shapiro test and Q-Q Plot, for this pair we can plot the linear regression"
   ]
  },
  {
   "cell_type": "markdown",
   "id": "dc572646",
   "metadata": {},
   "source": [
    "Linear Regression for pair ('20', '29')"
   ]
  },
  {
   "cell_type": "code",
   "execution_count": 13,
   "id": "ed822bb3",
   "metadata": {},
   "outputs": [
    {
     "data": {
      "image/png": "[encoded data removed]",
      "text/plain": [
       "<Figure size 432x288 with 1 Axes>"
      ]
     },
     "metadata": {
      "needs_background": "light"
     },
     "output_type": "display_data"
    }
   ],
   "source": [
    "sns.regplot(x=\"20\", y=\"29\", data=df, line_kws={\"color\":\"red\"}, scatter_kws={\"color\":\"blue\"})\n",
    "plt.title('Regression Plot of Features 20 and 29')\n",
    "plt.xlabel('Feature 20')\n",
    "plt.ylabel('Feature 29')\n",
    "plt.show()"
   ]
  },
  {
   "cell_type": "markdown",
   "id": "e2d285d5",
   "metadata": {},
   "source": [
    "#### 4. Illustration using the Random Forest Regression"
   ]
  },
  {
   "cell_type": "markdown",
   "id": "b7deeee5",
   "metadata": {},
   "source": [
    "Here, I predict the values of the column '11' using the Random Forest Regression.\n",
    "Column '11' is randomly chosen"
   ]
  },
  {
   "cell_type": "code",
   "execution_count": 14,
   "id": "4d59cc79",
   "metadata": {},
   "outputs": [
    {
     "data": {
      "text/html": [
       "<style>#sk-container-id-1 {color: black;background-color: white;}#sk-container-id-1 pre{padding: 0;}#sk-container-id-1 div.sk-toggleable {background-color: white;}#sk-container-id-1 label.sk-toggleable__label {cursor: pointer;display: block;width: 100%;margin-bottom: 0;padding: 0.3em;box-sizing: border-box;text-align: center;}#sk-container-id-1 label.sk-toggleable__label-arrow:before {content: \"▸\";float: left;margin-right: 0.25em;color: #696969;}#sk-container-id-1 label.sk-toggleable__label-arrow:hover:before {color: black;}#sk-container-id-1 div.sk-estimator:hover label.sk-toggleable__label-arrow:before {color: black;}#sk-container-id-1 div.sk-toggleable__content {max-height: 0;max-width: 0;overflow: hidden;text-align: left;background-color: #f0f8ff;}#sk-container-id-1 div.sk-toggleable__content pre {margin: 0.2em;color: black;border-radius: 0.25em;background-color: #f0f8ff;}#sk-container-id-1 input.sk-toggleable__control:checked~div.sk-toggleable__content {max-height: 200px;max-width: 100%;overflow: auto;}#sk-container-id-1 input.sk-toggleable__control:checked~label.sk-toggleable__label-arrow:before {content: \"▾\";}#sk-container-id-1 div.sk-estimator input.sk-toggleable__control:checked~label.sk-toggleable__label {background-color: #d4ebff;}#sk-container-id-1 div.sk-label input.sk-toggleable__control:checked~label.sk-toggleable__label {background-color: #d4ebff;}#sk-container-id-1 input.sk-hidden--visually {border: 0;clip: rect(1px 1px 1px 1px);clip: rect(1px, 1px, 1px, 1px);height: 1px;margin: -1px;overflow: hidden;padding: 0;position: absolute;width: 1px;}#sk-container-id-1 div.sk-estimator {font-family: monospace;background-color: #f0f8ff;border: 1px dotted black;border-radius: 0.25em;box-sizing: border-box;margin-bottom: 0.5em;}#sk-container-id-1 div.sk-estimator:hover {background-color: #d4ebff;}#sk-container-id-1 div.sk-parallel-item::after {content: \"\";width: 100%;border-bottom: 1px solid gray;flex-grow: 1;}#sk-container-id-1 div.sk-label:hover label.sk-toggleable__label {background-color: #d4ebff;}#sk-container-id-1 div.sk-serial::before {content: \"\";position: absolute;border-left: 1px solid gray;box-sizing: border-box;top: 0;bottom: 0;left: 50%;z-index: 0;}#sk-container-id-1 div.sk-serial {display: flex;flex-direction: column;align-items: center;background-color: white;padding-right: 0.2em;padding-left: 0.2em;position: relative;}#sk-container-id-1 div.sk-item {position: relative;z-index: 1;}#sk-container-id-1 div.sk-parallel {display: flex;align-items: stretch;justify-content: center;background-color: white;position: relative;}#sk-container-id-1 div.sk-item::before, #sk-container-id-1 div.sk-parallel-item::before {content: \"\";position: absolute;border-left: 1px solid gray;box-sizing: border-box;top: 0;bottom: 0;left: 50%;z-index: -1;}#sk-container-id-1 div.sk-parallel-item {display: flex;flex-direction: column;z-index: 1;position: relative;background-color: white;}#sk-container-id-1 div.sk-parallel-item:first-child::after {align-self: flex-end;width: 50%;}#sk-container-id-1 div.sk-parallel-item:last-child::after {align-self: flex-start;width: 50%;}#sk-container-id-1 div.sk-parallel-item:only-child::after {width: 0;}#sk-container-id-1 div.sk-dashed-wrapped {border: 1px dashed gray;margin: 0 0.4em 0.5em 0.4em;box-sizing: border-box;padding-bottom: 0.4em;background-color: white;}#sk-container-id-1 div.sk-label label {font-family: monospace;font-weight: bold;display: inline-block;line-height: 1.2em;}#sk-container-id-1 div.sk-label-container {text-align: center;}#sk-container-id-1 div.sk-container {/* jupyter's `normalize.less` sets `[hidden] { display: none; }` but bootstrap.min.css set `[hidden] { display: none !important; }` so we also need the `!important` here to be able to override the default hidden behavior on the sphinx rendered scikit-learn.org. See: https://github.com/scikit-learn/scikit-learn/issues/21755 */display: inline-block !important;position: relative;}#sk-container-id-1 div.sk-text-repr-fallback {display: none;}</style><div id=\"sk-container-id-1\" class=\"sk-top-container\"><div class=\"sk-text-repr-fallback\"><pre>RandomForestRegressor(random_state=0)</pre><b>In a Jupyter environment, please rerun this cell to show the HTML representation or trust the notebook. <br />On GitHub, the HTML representation is unable to render, please try loading this page with nbviewer.org.</b></div><div class=\"sk-container\" hidden><div class=\"sk-item\"><div class=\"sk-estimator sk-toggleable\"><input class=\"sk-toggleable__control sk-hidden--visually\" id=\"sk-estimator-id-1\" type=\"checkbox\" checked><label for=\"sk-estimator-id-1\" class=\"sk-toggleable__label sk-toggleable__label-arrow\">RandomForestRegressor</label><div class=\"sk-toggleable__content\"><pre>RandomForestRegressor(random_state=0)</pre></div></div></div></div></div>"
      ],
      "text/plain": [
       "RandomForestRegressor(random_state=0)"
      ]
     },
     "execution_count": 14,
     "metadata": {},
     "output_type": "execute_result"
    }
   ],
   "source": [
    "X = df.drop(df.columns[10], axis=1).copy().values #column 11 has index 10\n",
    "y = df.iloc[:, 10].values\n",
    "\n",
    "X_train, X_test, y_train, y_test = train_test_split(X, y, test_size=0.2, random_state=0)\n",
    "rf = RandomForestRegressor(n_estimators=100, random_state=0)\n",
    "rf.fit(X_train, y_train)"
   ]
  },
  {
   "cell_type": "code",
   "execution_count": 15,
   "id": "d142b3d7",
   "metadata": {},
   "outputs": [
    {
     "data": {
      "image/png": "[encoded data removed]",
      "text/plain": [
       "<Figure size 432x288 with 1 Axes>"
      ]
     },
     "metadata": {
      "needs_background": "light"
     },
     "output_type": "display_data"
    }
   ],
   "source": [
    "y_pred = rf.predict(X_test)\n",
    "\n",
    "plt.scatter(y_test, y_pred)\n",
    "plt.xlabel('Actual Values')\n",
    "plt.ylabel('Predicted Values')\n",
    "plt.title('Random Forest Regression')\n",
    "plt.show()"
   ]
  },
  {
   "cell_type": "code",
   "execution_count": 16,
   "id": "c08bebec",
   "metadata": {},
   "outputs": [
    {
     "name": "stdout",
     "output_type": "stream",
     "text": [
      "RMSE is 0.0031044350894129623\n"
     ]
    }
   ],
   "source": [
    "rmse = np.sqrt(mean_squared_error(y_test, y_pred))\n",
    "print('RMSE is', rmse)"
   ]
  },
  {
   "cell_type": "code",
   "execution_count": 17,
   "id": "0303955b",
   "metadata": {},
   "outputs": [
    {
     "name": "stdout",
     "output_type": "stream",
     "text": [
      "Mean Absolute Error is 0.0 degrees\n"
     ]
    }
   ],
   "source": [
    "errors = abs(y_pred - y_test)\n",
    "\n",
    "print('Mean Absolute Error is', round(np.mean(errors), 2), 'degrees')"
   ]
  },
  {
   "cell_type": "code",
   "execution_count": 18,
   "id": "ce1ae384",
   "metadata": {},
   "outputs": [
    {
     "name": "stdout",
     "output_type": "stream",
     "text": [
      "Accuracy is 99.95 %\n"
     ]
    }
   ],
   "source": [
    "mape = np.zeros_like(errors)\n",
    "mask = y_test != 0\n",
    "mape[mask] = 100 * (errors[mask] / y_test[mask])\n",
    "mape[~mask] = np.nan\n",
    "mape = np.abs(mape)\n",
    "mape = np.nan_to_num(mape, nan=0.0, posinf=0.0, neginf=0.0)\n",
    "accuracy = 100 - np.mean(mape)\n",
    "print('Accuracy is', round(accuracy, 2), '%')"
   ]
  },
  {
   "cell_type": "code",
   "execution_count": 19,
   "id": "1937ad70",
   "metadata": {
    "scrolled": true
   },
   "outputs": [
    {
     "data": {
      "text/html": [
       "<div>\n",
       "<style scoped>\n",
       "    .dataframe tbody tr th:only-of-type {\n",
       "        vertical-align: middle;\n",
       "    }\n",
       "\n",
       "    .dataframe tbody tr th {\n",
       "        vertical-align: top;\n",
       "    }\n",
       "\n",
       "    .dataframe thead th {\n",
       "        text-align: right;\n",
       "    }\n",
       "</style>\n",
       "<table border=\"1\" class=\"dataframe\">\n",
       "  <thead>\n",
       "    <tr style=\"text-align: right;\">\n",
       "      <th></th>\n",
       "      <th>Variable</th>\n",
       "      <th>Importance</th>\n",
       "    </tr>\n",
       "  </thead>\n",
       "  <tbody>\n",
       "    <tr>\n",
       "      <th>0</th>\n",
       "      <td>30</td>\n",
       "      <td>0.90</td>\n",
       "    </tr>\n",
       "    <tr>\n",
       "      <th>1</th>\n",
       "      <td>1</td>\n",
       "      <td>0.08</td>\n",
       "    </tr>\n",
       "    <tr>\n",
       "      <th>2</th>\n",
       "      <td>48</td>\n",
       "      <td>0.02</td>\n",
       "    </tr>\n",
       "    <tr>\n",
       "      <th>3</th>\n",
       "      <td>2</td>\n",
       "      <td>0.00</td>\n",
       "    </tr>\n",
       "    <tr>\n",
       "      <th>4</th>\n",
       "      <td>3</td>\n",
       "      <td>0.00</td>\n",
       "    </tr>\n",
       "  </tbody>\n",
       "</table>\n",
       "</div>"
      ],
      "text/plain": [
       "  Variable  Importance\n",
       "0       30        0.90\n",
       "1        1        0.08\n",
       "2       48        0.02\n",
       "3        2        0.00\n",
       "4        3        0.00"
      ]
     },
     "execution_count": 19,
     "metadata": {},
     "output_type": "execute_result"
    }
   ],
   "source": [
    "importances = list(rf.feature_importances_)\n",
    "features_names = list(df.drop(df.columns[10], axis=1).columns)\n",
    "\n",
    "feature_importances = [(feature, round(importance, 2)) for feature, importance in zip(features_names, importances)]\n",
    "feature_importances = sorted(feature_importances, key = lambda x: x[1], reverse = True)\n",
    "\n",
    "pycaret = [{'Variable': pair[0], 'Importance': pair[1]} for pair in feature_importances]\n",
    "df_pycaret = pd.DataFrame(pycaret)\n",
    "df_pycaret.head()"
   ]
  },
  {
   "cell_type": "markdown",
   "id": "0742e9be",
   "metadata": {},
   "source": [
    "Visualizing the importance of different columns/features on prediction"
   ]
  },
  {
   "cell_type": "code",
   "execution_count": 20,
   "id": "0e4a3739",
   "metadata": {
    "scrolled": false
   },
   "outputs": [
    {
     "data": {
      "image/png": "[encoded data removed]",
      "text/plain": [
       "<Figure size 1008x432 with 1 Axes>"
      ]
     },
     "metadata": {},
     "output_type": "display_data"
    }
   ],
   "source": [
    "%matplotlib inline\n",
    "\n",
    "plt.style.use('fivethirtyeight')\n",
    "x_values = list(range(len(importances)))\n",
    "\n",
    "fig = plt.figure(figsize=(14, 6))\n",
    "plt.bar(x_values, importances, orientation = 'vertical')\n",
    "plt.xticks(x_values, features_names, rotation='vertical')\n",
    "plt.ylabel('Importance'); plt.xlabel('Variable'); plt.title('Variable Importances');"
   ]
  },
  {
   "cell_type": "markdown",
   "id": "9faf76da",
   "metadata": {},
   "source": [
    "To conclude, the scatter plot of predicted vs actual values form a diagonal line. This mean that the model is almost perfectly predict the target column '11'. From further analysis we derive that accuracy of the model is 99.95% and the column that is most important in predicting column '11' is column '30'"
   ]
  },
  {
   "cell_type": "markdown",
   "id": "ee4cd0b2",
   "metadata": {},
   "source": [
    "#### 4. Categorizing the new data using Pycaret"
   ]
  },
  {
   "cell_type": "code",
   "execution_count": 21,
   "id": "29e398c6",
   "metadata": {
    "scrolled": true
   },
   "outputs": [
    {
     "data": {
      "text/plain": [
       "{'10': array([0, 2, 1])}"
      ]
     },
     "execution_count": 21,
     "metadata": {},
     "output_type": "execute_result"
    }
   ],
   "source": [
    "# Analyzing if there is any categorical values\n",
    "\n",
    "col_name = list(df.columns)\n",
    "\n",
    "unique_dict={}\n",
    "for i in col_name:\n",
    "    v = df[i].unique()\n",
    "    unique_dict[i] = v\n",
    "    \n",
    "length_dict = {key: len(value) for key, value in unique_dict.items()}\n",
    "categorical_col=[]\n",
    "for i in col_name:\n",
    "    if length_dict[i] < 100:\n",
    "        categorical_col.append(i)\n",
    "        \n",
    "categorical_dict={}        \n",
    "for i in categorical_col:\n",
    "    categorical_dict[i] = unique_dict[i]\n",
    "    \n",
    "categorical_dict \n",
    "\n",
    "#the only categorical column in df is col '10' and it has 3 values: 0,1,2"
   ]
  },
  {
   "cell_type": "markdown",
   "id": "c6d5b3fc",
   "metadata": {},
   "source": [
    "In the df the column '10' is categorical. Thus, in the later part let's predict if the new data belongs to the category 0,1,or 2 in the column '10'"
   ]
  },
  {
   "cell_type": "code",
   "execution_count": 22,
   "id": "d12db2a9",
   "metadata": {},
   "outputs": [],
   "source": [
    "train_size = 0.05\n",
    "train_end = int(len(df)*0.5)\n",
    "\n",
    "df_train = df[:train_end]\n",
    "df_test = df[train_end:]"
   ]
  },
  {
   "cell_type": "code",
   "execution_count": 23,
   "id": "18fe031c",
   "metadata": {},
   "outputs": [
    {
     "data": {
      "text/html": [
       "<style type=\"text/css\">\n",
       "#T_cb1b1_row8_col1 {\n",
       "  background-color: lightgreen;\n",
       "}\n",
       "</style>\n",
       "<table id=\"T_cb1b1\">\n",
       "  <thead>\n",
       "    <tr>\n",
       "      <th class=\"blank level0\" >&nbsp;</th>\n",
       "      <th id=\"T_cb1b1_level0_col0\" class=\"col_heading level0 col0\" >Description</th>\n",
       "      <th id=\"T_cb1b1_level0_col1\" class=\"col_heading level0 col1\" >Value</th>\n",
       "    </tr>\n",
       "  </thead>\n",
       "  <tbody>\n",
       "    <tr>\n",
       "      <th id=\"T_cb1b1_level0_row0\" class=\"row_heading level0 row0\" >0</th>\n",
       "      <td id=\"T_cb1b1_row0_col0\" class=\"data row0 col0\" >Session id</td>\n",
       "      <td id=\"T_cb1b1_row0_col1\" class=\"data row0 col1\" >4535</td>\n",
       "    </tr>\n",
       "    <tr>\n",
       "      <th id=\"T_cb1b1_level0_row1\" class=\"row_heading level0 row1\" >1</th>\n",
       "      <td id=\"T_cb1b1_row1_col0\" class=\"data row1 col0\" >Target</td>\n",
       "      <td id=\"T_cb1b1_row1_col1\" class=\"data row1 col1\" >10</td>\n",
       "    </tr>\n",
       "    <tr>\n",
       "      <th id=\"T_cb1b1_level0_row2\" class=\"row_heading level0 row2\" >2</th>\n",
       "      <td id=\"T_cb1b1_row2_col0\" class=\"data row2 col0\" >Target type</td>\n",
       "      <td id=\"T_cb1b1_row2_col1\" class=\"data row2 col1\" >Multiclass</td>\n",
       "    </tr>\n",
       "    <tr>\n",
       "      <th id=\"T_cb1b1_level0_row3\" class=\"row_heading level0 row3\" >3</th>\n",
       "      <td id=\"T_cb1b1_row3_col0\" class=\"data row3 col0\" >Original data shape</td>\n",
       "      <td id=\"T_cb1b1_row3_col1\" class=\"data row3 col1\" >(4344, 56)</td>\n",
       "    </tr>\n",
       "    <tr>\n",
       "      <th id=\"T_cb1b1_level0_row4\" class=\"row_heading level0 row4\" >4</th>\n",
       "      <td id=\"T_cb1b1_row4_col0\" class=\"data row4 col0\" >Transformed data shape</td>\n",
       "      <td id=\"T_cb1b1_row4_col1\" class=\"data row4 col1\" >(4344, 56)</td>\n",
       "    </tr>\n",
       "    <tr>\n",
       "      <th id=\"T_cb1b1_level0_row5\" class=\"row_heading level0 row5\" >5</th>\n",
       "      <td id=\"T_cb1b1_row5_col0\" class=\"data row5 col0\" >Transformed train set shape</td>\n",
       "      <td id=\"T_cb1b1_row5_col1\" class=\"data row5 col1\" >(3040, 56)</td>\n",
       "    </tr>\n",
       "    <tr>\n",
       "      <th id=\"T_cb1b1_level0_row6\" class=\"row_heading level0 row6\" >6</th>\n",
       "      <td id=\"T_cb1b1_row6_col0\" class=\"data row6 col0\" >Transformed test set shape</td>\n",
       "      <td id=\"T_cb1b1_row6_col1\" class=\"data row6 col1\" >(1304, 56)</td>\n",
       "    </tr>\n",
       "    <tr>\n",
       "      <th id=\"T_cb1b1_level0_row7\" class=\"row_heading level0 row7\" >7</th>\n",
       "      <td id=\"T_cb1b1_row7_col0\" class=\"data row7 col0\" >Numeric features</td>\n",
       "      <td id=\"T_cb1b1_row7_col1\" class=\"data row7 col1\" >55</td>\n",
       "    </tr>\n",
       "    <tr>\n",
       "      <th id=\"T_cb1b1_level0_row8\" class=\"row_heading level0 row8\" >8</th>\n",
       "      <td id=\"T_cb1b1_row8_col0\" class=\"data row8 col0\" >Preprocess</td>\n",
       "      <td id=\"T_cb1b1_row8_col1\" class=\"data row8 col1\" >1</td>\n",
       "    </tr>\n",
       "    <tr>\n",
       "      <th id=\"T_cb1b1_level0_row9\" class=\"row_heading level0 row9\" >9</th>\n",
       "      <td id=\"T_cb1b1_row9_col0\" class=\"data row9 col0\" >Imputation type</td>\n",
       "      <td id=\"T_cb1b1_row9_col1\" class=\"data row9 col1\" >simple</td>\n",
       "    </tr>\n",
       "    <tr>\n",
       "      <th id=\"T_cb1b1_level0_row10\" class=\"row_heading level0 row10\" >10</th>\n",
       "      <td id=\"T_cb1b1_row10_col0\" class=\"data row10 col0\" >Numeric imputation</td>\n",
       "      <td id=\"T_cb1b1_row10_col1\" class=\"data row10 col1\" >mean</td>\n",
       "    </tr>\n",
       "    <tr>\n",
       "      <th id=\"T_cb1b1_level0_row11\" class=\"row_heading level0 row11\" >11</th>\n",
       "      <td id=\"T_cb1b1_row11_col0\" class=\"data row11 col0\" >Categorical imputation</td>\n",
       "      <td id=\"T_cb1b1_row11_col1\" class=\"data row11 col1\" >mode</td>\n",
       "    </tr>\n",
       "    <tr>\n",
       "      <th id=\"T_cb1b1_level0_row12\" class=\"row_heading level0 row12\" >12</th>\n",
       "      <td id=\"T_cb1b1_row12_col0\" class=\"data row12 col0\" >Fold Generator</td>\n",
       "      <td id=\"T_cb1b1_row12_col1\" class=\"data row12 col1\" >StratifiedKFold</td>\n",
       "    </tr>\n",
       "    <tr>\n",
       "      <th id=\"T_cb1b1_level0_row13\" class=\"row_heading level0 row13\" >13</th>\n",
       "      <td id=\"T_cb1b1_row13_col0\" class=\"data row13 col0\" >Fold Number</td>\n",
       "      <td id=\"T_cb1b1_row13_col1\" class=\"data row13 col1\" >10</td>\n",
       "    </tr>\n",
       "    <tr>\n",
       "      <th id=\"T_cb1b1_level0_row14\" class=\"row_heading level0 row14\" >14</th>\n",
       "      <td id=\"T_cb1b1_row14_col0\" class=\"data row14 col0\" >CPU Jobs</td>\n",
       "      <td id=\"T_cb1b1_row14_col1\" class=\"data row14 col1\" >-1</td>\n",
       "    </tr>\n",
       "    <tr>\n",
       "      <th id=\"T_cb1b1_level0_row15\" class=\"row_heading level0 row15\" >15</th>\n",
       "      <td id=\"T_cb1b1_row15_col0\" class=\"data row15 col0\" >Use GPU</td>\n",
       "      <td id=\"T_cb1b1_row15_col1\" class=\"data row15 col1\" >0</td>\n",
       "    </tr>\n",
       "    <tr>\n",
       "      <th id=\"T_cb1b1_level0_row16\" class=\"row_heading level0 row16\" >16</th>\n",
       "      <td id=\"T_cb1b1_row16_col0\" class=\"data row16 col0\" >Log Experiment</td>\n",
       "      <td id=\"T_cb1b1_row16_col1\" class=\"data row16 col1\" >0</td>\n",
       "    </tr>\n",
       "    <tr>\n",
       "      <th id=\"T_cb1b1_level0_row17\" class=\"row_heading level0 row17\" >17</th>\n",
       "      <td id=\"T_cb1b1_row17_col0\" class=\"data row17 col0\" >Experiment Name</td>\n",
       "      <td id=\"T_cb1b1_row17_col1\" class=\"data row17 col1\" >clf-default-name</td>\n",
       "    </tr>\n",
       "    <tr>\n",
       "      <th id=\"T_cb1b1_level0_row18\" class=\"row_heading level0 row18\" >18</th>\n",
       "      <td id=\"T_cb1b1_row18_col0\" class=\"data row18 col0\" >USI</td>\n",
       "      <td id=\"T_cb1b1_row18_col1\" class=\"data row18 col1\" >4462</td>\n",
       "    </tr>\n",
       "  </tbody>\n",
       "</table>\n"
      ],
      "text/plain": [
       "<pandas.io.formats.style.Styler at 0x7f9a861467a0>"
      ]
     },
     "metadata": {},
     "output_type": "display_data"
    },
    {
     "data": {
      "text/plain": [
       "<pycaret.classification.oop.ClassificationExperiment at 0x7f9a9cb75f00>"
      ]
     },
     "execution_count": 23,
     "metadata": {},
     "output_type": "execute_result"
    }
   ],
   "source": [
    "setup(df_train, target='10')"
   ]
  },
  {
   "cell_type": "code",
   "execution_count": 24,
   "id": "97b6f3f0",
   "metadata": {},
   "outputs": [
    {
     "data": {
      "text/html": [],
      "text/plain": [
       "<IPython.core.display.HTML object>"
      ]
     },
     "metadata": {},
     "output_type": "display_data"
    },
    {
     "data": {
      "text/html": [
       "<style type=\"text/css\">\n",
       "#T_53e6a th {\n",
       "  text-align: left;\n",
       "}\n",
       "#T_53e6a_row0_col0, #T_53e6a_row0_col1, #T_53e6a_row0_col3, #T_53e6a_row0_col4, #T_53e6a_row0_col5, #T_53e6a_row0_col6, #T_53e6a_row0_col7, #T_53e6a_row1_col0, #T_53e6a_row1_col1, #T_53e6a_row1_col2, #T_53e6a_row1_col3, #T_53e6a_row1_col4, #T_53e6a_row1_col5, #T_53e6a_row1_col6, #T_53e6a_row1_col7, #T_53e6a_row2_col0, #T_53e6a_row2_col2, #T_53e6a_row2_col4, #T_53e6a_row2_col5, #T_53e6a_row2_col7, #T_53e6a_row3_col0, #T_53e6a_row3_col1, #T_53e6a_row3_col2, #T_53e6a_row3_col3, #T_53e6a_row3_col4, #T_53e6a_row3_col5, #T_53e6a_row3_col6, #T_53e6a_row3_col7, #T_53e6a_row4_col0, #T_53e6a_row4_col1, #T_53e6a_row4_col2, #T_53e6a_row4_col3, #T_53e6a_row4_col4, #T_53e6a_row4_col5, #T_53e6a_row4_col6, #T_53e6a_row4_col7, #T_53e6a_row5_col0, #T_53e6a_row5_col1, #T_53e6a_row5_col2, #T_53e6a_row5_col3, #T_53e6a_row5_col4, #T_53e6a_row5_col5, #T_53e6a_row5_col6, #T_53e6a_row5_col7, #T_53e6a_row6_col0, #T_53e6a_row6_col1, #T_53e6a_row6_col2, #T_53e6a_row6_col3, #T_53e6a_row6_col4, #T_53e6a_row6_col6, #T_53e6a_row6_col7, #T_53e6a_row7_col0, #T_53e6a_row7_col1, #T_53e6a_row7_col2, #T_53e6a_row7_col3, #T_53e6a_row7_col4, #T_53e6a_row7_col5, #T_53e6a_row7_col6, #T_53e6a_row7_col7, #T_53e6a_row8_col0, #T_53e6a_row8_col1, #T_53e6a_row8_col2, #T_53e6a_row8_col3, #T_53e6a_row8_col4, #T_53e6a_row8_col5, #T_53e6a_row8_col6, #T_53e6a_row8_col7, #T_53e6a_row9_col0, #T_53e6a_row9_col1, #T_53e6a_row9_col2, #T_53e6a_row9_col3, #T_53e6a_row9_col4, #T_53e6a_row9_col5, #T_53e6a_row9_col6, #T_53e6a_row9_col7, #T_53e6a_row10_col0, #T_53e6a_row10_col1, #T_53e6a_row10_col2, #T_53e6a_row10_col3, #T_53e6a_row10_col4, #T_53e6a_row10_col5, #T_53e6a_row10_col6, #T_53e6a_row10_col7, #T_53e6a_row11_col0, #T_53e6a_row11_col1, #T_53e6a_row11_col2, #T_53e6a_row11_col3, #T_53e6a_row11_col4, #T_53e6a_row11_col5, #T_53e6a_row11_col6, #T_53e6a_row11_col7, #T_53e6a_row12_col0, #T_53e6a_row12_col1, #T_53e6a_row12_col2, #T_53e6a_row12_col3, #T_53e6a_row12_col5, #T_53e6a_row12_col6, #T_53e6a_row13_col0, #T_53e6a_row13_col1, #T_53e6a_row13_col2, #T_53e6a_row13_col3, #T_53e6a_row13_col4, #T_53e6a_row13_col5, #T_53e6a_row13_col6, #T_53e6a_row13_col7 {\n",
       "  text-align: left;\n",
       "}\n",
       "#T_53e6a_row0_col2, #T_53e6a_row2_col1, #T_53e6a_row2_col3, #T_53e6a_row2_col6, #T_53e6a_row6_col5, #T_53e6a_row12_col4, #T_53e6a_row12_col7 {\n",
       "  text-align: left;\n",
       "  background-color: yellow;\n",
       "}\n",
       "#T_53e6a_row0_col8, #T_53e6a_row1_col8, #T_53e6a_row2_col8, #T_53e6a_row3_col8, #T_53e6a_row4_col8, #T_53e6a_row5_col8, #T_53e6a_row6_col8, #T_53e6a_row7_col8, #T_53e6a_row8_col8, #T_53e6a_row9_col8, #T_53e6a_row10_col8, #T_53e6a_row11_col8, #T_53e6a_row13_col8 {\n",
       "  text-align: left;\n",
       "  background-color: lightgrey;\n",
       "}\n",
       "#T_53e6a_row12_col8 {\n",
       "  text-align: left;\n",
       "  background-color: yellow;\n",
       "  background-color: lightgrey;\n",
       "}\n",
       "</style>\n",
       "<table id=\"T_53e6a\">\n",
       "  <thead>\n",
       "    <tr>\n",
       "      <th class=\"blank level0\" >&nbsp;</th>\n",
       "      <th id=\"T_53e6a_level0_col0\" class=\"col_heading level0 col0\" >Model</th>\n",
       "      <th id=\"T_53e6a_level0_col1\" class=\"col_heading level0 col1\" >Accuracy</th>\n",
       "      <th id=\"T_53e6a_level0_col2\" class=\"col_heading level0 col2\" >AUC</th>\n",
       "      <th id=\"T_53e6a_level0_col3\" class=\"col_heading level0 col3\" >Recall</th>\n",
       "      <th id=\"T_53e6a_level0_col4\" class=\"col_heading level0 col4\" >Prec.</th>\n",
       "      <th id=\"T_53e6a_level0_col5\" class=\"col_heading level0 col5\" >F1</th>\n",
       "      <th id=\"T_53e6a_level0_col6\" class=\"col_heading level0 col6\" >Kappa</th>\n",
       "      <th id=\"T_53e6a_level0_col7\" class=\"col_heading level0 col7\" >MCC</th>\n",
       "      <th id=\"T_53e6a_level0_col8\" class=\"col_heading level0 col8\" >TT (Sec)</th>\n",
       "    </tr>\n",
       "  </thead>\n",
       "  <tbody>\n",
       "    <tr>\n",
       "      <th id=\"T_53e6a_level0_row0\" class=\"row_heading level0 row0\" >knn</th>\n",
       "      <td id=\"T_53e6a_row0_col0\" class=\"data row0 col0\" >K Neighbors Classifier</td>\n",
       "      <td id=\"T_53e6a_row0_col1\" class=\"data row0 col1\" >0.3378</td>\n",
       "      <td id=\"T_53e6a_row0_col2\" class=\"data row0 col2\" >0.5115</td>\n",
       "      <td id=\"T_53e6a_row0_col3\" class=\"data row0 col3\" >0.3378</td>\n",
       "      <td id=\"T_53e6a_row0_col4\" class=\"data row0 col4\" >0.3335</td>\n",
       "      <td id=\"T_53e6a_row0_col5\" class=\"data row0 col5\" >0.3280</td>\n",
       "      <td id=\"T_53e6a_row0_col6\" class=\"data row0 col6\" >0.0050</td>\n",
       "      <td id=\"T_53e6a_row0_col7\" class=\"data row0 col7\" >0.0052</td>\n",
       "      <td id=\"T_53e6a_row0_col8\" class=\"data row0 col8\" >0.0530</td>\n",
       "    </tr>\n",
       "    <tr>\n",
       "      <th id=\"T_53e6a_level0_row1\" class=\"row_heading level0 row1\" >dummy</th>\n",
       "      <td id=\"T_53e6a_row1_col0\" class=\"data row1 col0\" >Dummy Classifier</td>\n",
       "      <td id=\"T_53e6a_row1_col1\" class=\"data row1 col1\" >0.3378</td>\n",
       "      <td id=\"T_53e6a_row1_col2\" class=\"data row1 col2\" >0.5000</td>\n",
       "      <td id=\"T_53e6a_row1_col3\" class=\"data row1 col3\" >0.3378</td>\n",
       "      <td id=\"T_53e6a_row1_col4\" class=\"data row1 col4\" >0.1141</td>\n",
       "      <td id=\"T_53e6a_row1_col5\" class=\"data row1 col5\" >0.1706</td>\n",
       "      <td id=\"T_53e6a_row1_col6\" class=\"data row1 col6\" >0.0000</td>\n",
       "      <td id=\"T_53e6a_row1_col7\" class=\"data row1 col7\" >0.0000</td>\n",
       "      <td id=\"T_53e6a_row1_col8\" class=\"data row1 col8\" >0.0290</td>\n",
       "    </tr>\n",
       "    <tr>\n",
       "      <th id=\"T_53e6a_level0_row2\" class=\"row_heading level0 row2\" >nb</th>\n",
       "      <td id=\"T_53e6a_row2_col0\" class=\"data row2 col0\" >Naive Bayes</td>\n",
       "      <td id=\"T_53e6a_row2_col1\" class=\"data row2 col1\" >0.3382</td>\n",
       "      <td id=\"T_53e6a_row2_col2\" class=\"data row2 col2\" >0.4985</td>\n",
       "      <td id=\"T_53e6a_row2_col3\" class=\"data row2 col3\" >0.3382</td>\n",
       "      <td id=\"T_53e6a_row2_col4\" class=\"data row2 col4\" >0.3334</td>\n",
       "      <td id=\"T_53e6a_row2_col5\" class=\"data row2 col5\" >0.2369</td>\n",
       "      <td id=\"T_53e6a_row2_col6\" class=\"data row2 col6\" >0.0070</td>\n",
       "      <td id=\"T_53e6a_row2_col7\" class=\"data row2 col7\" >0.0114</td>\n",
       "      <td id=\"T_53e6a_row2_col8\" class=\"data row2 col8\" >0.0320</td>\n",
       "    </tr>\n",
       "    <tr>\n",
       "      <th id=\"T_53e6a_level0_row3\" class=\"row_heading level0 row3\" >qda</th>\n",
       "      <td id=\"T_53e6a_row3_col0\" class=\"data row3 col0\" >Quadratic Discriminant Analysis</td>\n",
       "      <td id=\"T_53e6a_row3_col1\" class=\"data row3 col1\" >0.3342</td>\n",
       "      <td id=\"T_53e6a_row3_col2\" class=\"data row3 col2\" >0.4967</td>\n",
       "      <td id=\"T_53e6a_row3_col3\" class=\"data row3 col3\" >0.3342</td>\n",
       "      <td id=\"T_53e6a_row3_col4\" class=\"data row3 col4\" >0.3210</td>\n",
       "      <td id=\"T_53e6a_row3_col5\" class=\"data row3 col5\" >0.2529</td>\n",
       "      <td id=\"T_53e6a_row3_col6\" class=\"data row3 col6\" >0.0011</td>\n",
       "      <td id=\"T_53e6a_row3_col7\" class=\"data row3 col7\" >0.0016</td>\n",
       "      <td id=\"T_53e6a_row3_col8\" class=\"data row3 col8\" >0.0350</td>\n",
       "    </tr>\n",
       "    <tr>\n",
       "      <th id=\"T_53e6a_level0_row4\" class=\"row_heading level0 row4\" >dt</th>\n",
       "      <td id=\"T_53e6a_row4_col0\" class=\"data row4 col0\" >Decision Tree Classifier</td>\n",
       "      <td id=\"T_53e6a_row4_col1\" class=\"data row4 col1\" >0.3286</td>\n",
       "      <td id=\"T_53e6a_row4_col2\" class=\"data row4 col2\" >0.4965</td>\n",
       "      <td id=\"T_53e6a_row4_col3\" class=\"data row4 col3\" >0.3286</td>\n",
       "      <td id=\"T_53e6a_row4_col4\" class=\"data row4 col4\" >0.3290</td>\n",
       "      <td id=\"T_53e6a_row4_col5\" class=\"data row4 col5\" >0.3281</td>\n",
       "      <td id=\"T_53e6a_row4_col6\" class=\"data row4 col6\" >-0.0070</td>\n",
       "      <td id=\"T_53e6a_row4_col7\" class=\"data row4 col7\" >-0.0070</td>\n",
       "      <td id=\"T_53e6a_row4_col8\" class=\"data row4 col8\" >0.0310</td>\n",
       "    </tr>\n",
       "    <tr>\n",
       "      <th id=\"T_53e6a_level0_row5\" class=\"row_heading level0 row5\" >lda</th>\n",
       "      <td id=\"T_53e6a_row5_col0\" class=\"data row5 col0\" >Linear Discriminant Analysis</td>\n",
       "      <td id=\"T_53e6a_row5_col1\" class=\"data row5 col1\" >0.3276</td>\n",
       "      <td id=\"T_53e6a_row5_col2\" class=\"data row5 col2\" >0.4925</td>\n",
       "      <td id=\"T_53e6a_row5_col3\" class=\"data row5 col3\" >0.3276</td>\n",
       "      <td id=\"T_53e6a_row5_col4\" class=\"data row5 col4\" >0.3276</td>\n",
       "      <td id=\"T_53e6a_row5_col5\" class=\"data row5 col5\" >0.3269</td>\n",
       "      <td id=\"T_53e6a_row5_col6\" class=\"data row5 col6\" >-0.0088</td>\n",
       "      <td id=\"T_53e6a_row5_col7\" class=\"data row5 col7\" >-0.0089</td>\n",
       "      <td id=\"T_53e6a_row5_col8\" class=\"data row5 col8\" >0.0430</td>\n",
       "    </tr>\n",
       "    <tr>\n",
       "      <th id=\"T_53e6a_level0_row6\" class=\"row_heading level0 row6\" >lr</th>\n",
       "      <td id=\"T_53e6a_row6_col0\" class=\"data row6 col0\" >Logistic Regression</td>\n",
       "      <td id=\"T_53e6a_row6_col1\" class=\"data row6 col1\" >0.3326</td>\n",
       "      <td id=\"T_53e6a_row6_col2\" class=\"data row6 col2\" >0.4901</td>\n",
       "      <td id=\"T_53e6a_row6_col3\" class=\"data row6 col3\" >0.3326</td>\n",
       "      <td id=\"T_53e6a_row6_col4\" class=\"data row6 col4\" >0.3327</td>\n",
       "      <td id=\"T_53e6a_row6_col5\" class=\"data row6 col5\" >0.3315</td>\n",
       "      <td id=\"T_53e6a_row6_col6\" class=\"data row6 col6\" >-0.0014</td>\n",
       "      <td id=\"T_53e6a_row6_col7\" class=\"data row6 col7\" >-0.0014</td>\n",
       "      <td id=\"T_53e6a_row6_col8\" class=\"data row6 col8\" >0.8660</td>\n",
       "    </tr>\n",
       "    <tr>\n",
       "      <th id=\"T_53e6a_level0_row7\" class=\"row_heading level0 row7\" >ada</th>\n",
       "      <td id=\"T_53e6a_row7_col0\" class=\"data row7 col0\" >Ada Boost Classifier</td>\n",
       "      <td id=\"T_53e6a_row7_col1\" class=\"data row7 col1\" >0.3145</td>\n",
       "      <td id=\"T_53e6a_row7_col2\" class=\"data row7 col2\" >0.4832</td>\n",
       "      <td id=\"T_53e6a_row7_col3\" class=\"data row7 col3\" >0.3145</td>\n",
       "      <td id=\"T_53e6a_row7_col4\" class=\"data row7 col4\" >0.3139</td>\n",
       "      <td id=\"T_53e6a_row7_col5\" class=\"data row7 col5\" >0.3131</td>\n",
       "      <td id=\"T_53e6a_row7_col6\" class=\"data row7 col6\" >-0.0287</td>\n",
       "      <td id=\"T_53e6a_row7_col7\" class=\"data row7 col7\" >-0.0288</td>\n",
       "      <td id=\"T_53e6a_row7_col8\" class=\"data row7 col8\" >0.0660</td>\n",
       "    </tr>\n",
       "    <tr>\n",
       "      <th id=\"T_53e6a_level0_row8\" class=\"row_heading level0 row8\" >et</th>\n",
       "      <td id=\"T_53e6a_row8_col0\" class=\"data row8 col0\" >Extra Trees Classifier</td>\n",
       "      <td id=\"T_53e6a_row8_col1\" class=\"data row8 col1\" >0.3122</td>\n",
       "      <td id=\"T_53e6a_row8_col2\" class=\"data row8 col2\" >0.4823</td>\n",
       "      <td id=\"T_53e6a_row8_col3\" class=\"data row8 col3\" >0.3122</td>\n",
       "      <td id=\"T_53e6a_row8_col4\" class=\"data row8 col4\" >0.3111</td>\n",
       "      <td id=\"T_53e6a_row8_col5\" class=\"data row8 col5\" >0.3107</td>\n",
       "      <td id=\"T_53e6a_row8_col6\" class=\"data row8 col6\" >-0.0322</td>\n",
       "      <td id=\"T_53e6a_row8_col7\" class=\"data row8 col7\" >-0.0323</td>\n",
       "      <td id=\"T_53e6a_row8_col8\" class=\"data row8 col8\" >0.1630</td>\n",
       "    </tr>\n",
       "    <tr>\n",
       "      <th id=\"T_53e6a_level0_row9\" class=\"row_heading level0 row9\" >rf</th>\n",
       "      <td id=\"T_53e6a_row9_col0\" class=\"data row9 col0\" >Random Forest Classifier</td>\n",
       "      <td id=\"T_53e6a_row9_col1\" class=\"data row9 col1\" >0.3207</td>\n",
       "      <td id=\"T_53e6a_row9_col2\" class=\"data row9 col2\" >0.4809</td>\n",
       "      <td id=\"T_53e6a_row9_col3\" class=\"data row9 col3\" >0.3207</td>\n",
       "      <td id=\"T_53e6a_row9_col4\" class=\"data row9 col4\" >0.3209</td>\n",
       "      <td id=\"T_53e6a_row9_col5\" class=\"data row9 col5\" >0.3193</td>\n",
       "      <td id=\"T_53e6a_row9_col6\" class=\"data row9 col6\" >-0.0196</td>\n",
       "      <td id=\"T_53e6a_row9_col7\" class=\"data row9 col7\" >-0.0196</td>\n",
       "      <td id=\"T_53e6a_row9_col8\" class=\"data row9 col8\" >0.1370</td>\n",
       "    </tr>\n",
       "    <tr>\n",
       "      <th id=\"T_53e6a_level0_row10\" class=\"row_heading level0 row10\" >lightgbm</th>\n",
       "      <td id=\"T_53e6a_row10_col0\" class=\"data row10 col0\" >Light Gradient Boosting Machine</td>\n",
       "      <td id=\"T_53e6a_row10_col1\" class=\"data row10 col1\" >0.3224</td>\n",
       "      <td id=\"T_53e6a_row10_col2\" class=\"data row10 col2\" >0.4809</td>\n",
       "      <td id=\"T_53e6a_row10_col3\" class=\"data row10 col3\" >0.3224</td>\n",
       "      <td id=\"T_53e6a_row10_col4\" class=\"data row10 col4\" >0.3222</td>\n",
       "      <td id=\"T_53e6a_row10_col5\" class=\"data row10 col5\" >0.3217</td>\n",
       "      <td id=\"T_53e6a_row10_col6\" class=\"data row10 col6\" >-0.0166</td>\n",
       "      <td id=\"T_53e6a_row10_col7\" class=\"data row10 col7\" >-0.0166</td>\n",
       "      <td id=\"T_53e6a_row10_col8\" class=\"data row10 col8\" >0.0710</td>\n",
       "    </tr>\n",
       "    <tr>\n",
       "      <th id=\"T_53e6a_level0_row11\" class=\"row_heading level0 row11\" >gbc</th>\n",
       "      <td id=\"T_53e6a_row11_col0\" class=\"data row11 col0\" >Gradient Boosting Classifier</td>\n",
       "      <td id=\"T_53e6a_row11_col1\" class=\"data row11 col1\" >0.3109</td>\n",
       "      <td id=\"T_53e6a_row11_col2\" class=\"data row11 col2\" >0.4712</td>\n",
       "      <td id=\"T_53e6a_row11_col3\" class=\"data row11 col3\" >0.3109</td>\n",
       "      <td id=\"T_53e6a_row11_col4\" class=\"data row11 col4\" >0.3104</td>\n",
       "      <td id=\"T_53e6a_row11_col5\" class=\"data row11 col5\" >0.3099</td>\n",
       "      <td id=\"T_53e6a_row11_col6\" class=\"data row11 col6\" >-0.0340</td>\n",
       "      <td id=\"T_53e6a_row11_col7\" class=\"data row11 col7\" >-0.0341</td>\n",
       "      <td id=\"T_53e6a_row11_col8\" class=\"data row11 col8\" >0.1410</td>\n",
       "    </tr>\n",
       "    <tr>\n",
       "      <th id=\"T_53e6a_level0_row12\" class=\"row_heading level0 row12\" >svm</th>\n",
       "      <td id=\"T_53e6a_row12_col0\" class=\"data row12 col0\" >SVM - Linear Kernel</td>\n",
       "      <td id=\"T_53e6a_row12_col1\" class=\"data row12 col1\" >0.3326</td>\n",
       "      <td id=\"T_53e6a_row12_col2\" class=\"data row12 col2\" >0.0000</td>\n",
       "      <td id=\"T_53e6a_row12_col3\" class=\"data row12 col3\" >0.3326</td>\n",
       "      <td id=\"T_53e6a_row12_col4\" class=\"data row12 col4\" >0.3621</td>\n",
       "      <td id=\"T_53e6a_row12_col5\" class=\"data row12 col5\" >0.1860</td>\n",
       "      <td id=\"T_53e6a_row12_col6\" class=\"data row12 col6\" >0.0001</td>\n",
       "      <td id=\"T_53e6a_row12_col7\" class=\"data row12 col7\" >0.0172</td>\n",
       "      <td id=\"T_53e6a_row12_col8\" class=\"data row12 col8\" >0.0230</td>\n",
       "    </tr>\n",
       "    <tr>\n",
       "      <th id=\"T_53e6a_level0_row13\" class=\"row_heading level0 row13\" >ridge</th>\n",
       "      <td id=\"T_53e6a_row13_col0\" class=\"data row13 col0\" >Ridge Classifier</td>\n",
       "      <td id=\"T_53e6a_row13_col1\" class=\"data row13 col1\" >0.3296</td>\n",
       "      <td id=\"T_53e6a_row13_col2\" class=\"data row13 col2\" >0.0000</td>\n",
       "      <td id=\"T_53e6a_row13_col3\" class=\"data row13 col3\" >0.3296</td>\n",
       "      <td id=\"T_53e6a_row13_col4\" class=\"data row13 col4\" >0.3296</td>\n",
       "      <td id=\"T_53e6a_row13_col5\" class=\"data row13 col5\" >0.3290</td>\n",
       "      <td id=\"T_53e6a_row13_col6\" class=\"data row13 col6\" >-0.0057</td>\n",
       "      <td id=\"T_53e6a_row13_col7\" class=\"data row13 col7\" >-0.0058</td>\n",
       "      <td id=\"T_53e6a_row13_col8\" class=\"data row13 col8\" >0.0290</td>\n",
       "    </tr>\n",
       "  </tbody>\n",
       "</table>\n"
      ],
      "text/plain": [
       "<pandas.io.formats.style.Styler at 0x7f9a9cde5ea0>"
      ]
     },
     "metadata": {},
     "output_type": "display_data"
    },
    {
     "data": {
      "text/html": [],
      "text/plain": [
       "<IPython.core.display.HTML object>"
      ]
     },
     "metadata": {},
     "output_type": "display_data"
    }
   ],
   "source": [
    "best_model = compare_models(sort='AUC')"
   ]
  },
  {
   "cell_type": "code",
   "execution_count": 25,
   "id": "ea3fe48a",
   "metadata": {},
   "outputs": [
    {
     "data": {
      "text/html": [
       "<style type=\"text/css\">\n",
       "</style>\n",
       "<table id=\"T_f2ba1\">\n",
       "  <thead>\n",
       "    <tr>\n",
       "      <th class=\"blank level0\" >&nbsp;</th>\n",
       "      <th id=\"T_f2ba1_level0_col0\" class=\"col_heading level0 col0\" >Model</th>\n",
       "      <th id=\"T_f2ba1_level0_col1\" class=\"col_heading level0 col1\" >Accuracy</th>\n",
       "      <th id=\"T_f2ba1_level0_col2\" class=\"col_heading level0 col2\" >AUC</th>\n",
       "      <th id=\"T_f2ba1_level0_col3\" class=\"col_heading level0 col3\" >Recall</th>\n",
       "      <th id=\"T_f2ba1_level0_col4\" class=\"col_heading level0 col4\" >Prec.</th>\n",
       "      <th id=\"T_f2ba1_level0_col5\" class=\"col_heading level0 col5\" >F1</th>\n",
       "      <th id=\"T_f2ba1_level0_col6\" class=\"col_heading level0 col6\" >Kappa</th>\n",
       "      <th id=\"T_f2ba1_level0_col7\" class=\"col_heading level0 col7\" >MCC</th>\n",
       "    </tr>\n",
       "  </thead>\n",
       "  <tbody>\n",
       "    <tr>\n",
       "      <th id=\"T_f2ba1_level0_row0\" class=\"row_heading level0 row0\" >0</th>\n",
       "      <td id=\"T_f2ba1_row0_col0\" class=\"data row0 col0\" >K Neighbors Classifier</td>\n",
       "      <td id=\"T_f2ba1_row0_col1\" class=\"data row0 col1\" >0.3290</td>\n",
       "      <td id=\"T_f2ba1_row0_col2\" class=\"data row0 col2\" >0.4812</td>\n",
       "      <td id=\"T_f2ba1_row0_col3\" class=\"data row0 col3\" >0.3290</td>\n",
       "      <td id=\"T_f2ba1_row0_col4\" class=\"data row0 col4\" >0.3262</td>\n",
       "      <td id=\"T_f2ba1_row0_col5\" class=\"data row0 col5\" >0.3199</td>\n",
       "      <td id=\"T_f2ba1_row0_col6\" class=\"data row0 col6\" >-0.0084</td>\n",
       "      <td id=\"T_f2ba1_row0_col7\" class=\"data row0 col7\" >-0.0086</td>\n",
       "    </tr>\n",
       "  </tbody>\n",
       "</table>\n"
      ],
      "text/plain": [
       "<pandas.io.formats.style.Styler at 0x7f9a9e41a950>"
      ]
     },
     "metadata": {},
     "output_type": "display_data"
    },
    {
     "data": {
      "text/html": [
       "<div>\n",
       "<style scoped>\n",
       "    .dataframe tbody tr th:only-of-type {\n",
       "        vertical-align: middle;\n",
       "    }\n",
       "\n",
       "    .dataframe tbody tr th {\n",
       "        vertical-align: top;\n",
       "    }\n",
       "\n",
       "    .dataframe thead th {\n",
       "        text-align: right;\n",
       "    }\n",
       "</style>\n",
       "<table border=\"1\" class=\"dataframe\">\n",
       "  <thead>\n",
       "    <tr style=\"text-align: right;\">\n",
       "      <th></th>\n",
       "      <th>1</th>\n",
       "      <th>2</th>\n",
       "      <th>3</th>\n",
       "      <th>4</th>\n",
       "      <th>5</th>\n",
       "      <th>6</th>\n",
       "      <th>7</th>\n",
       "      <th>8</th>\n",
       "      <th>9</th>\n",
       "      <th>11</th>\n",
       "      <th>...</th>\n",
       "      <th>50</th>\n",
       "      <th>51</th>\n",
       "      <th>52</th>\n",
       "      <th>53</th>\n",
       "      <th>54</th>\n",
       "      <th>55</th>\n",
       "      <th>56</th>\n",
       "      <th>10</th>\n",
       "      <th>prediction_label</th>\n",
       "      <th>prediction_score</th>\n",
       "    </tr>\n",
       "  </thead>\n",
       "  <tbody>\n",
       "    <tr>\n",
       "      <th>3040</th>\n",
       "      <td>73.733749</td>\n",
       "      <td>390.665985</td>\n",
       "      <td>30.945000</td>\n",
       "      <td>71.028999</td>\n",
       "      <td>96.111000</td>\n",
       "      <td>36.808998</td>\n",
       "      <td>84.004997</td>\n",
       "      <td>29.913000</td>\n",
       "      <td>48.928001</td>\n",
       "      <td>3.92931</td>\n",
       "      <td>...</td>\n",
       "      <td>2615</td>\n",
       "      <td>201435</td>\n",
       "      <td>62964</td>\n",
       "      <td>81856</td>\n",
       "      <td>270474</td>\n",
       "      <td>145293</td>\n",
       "      <td>44332</td>\n",
       "      <td>2</td>\n",
       "      <td>2</td>\n",
       "      <td>0.6</td>\n",
       "    </tr>\n",
       "    <tr>\n",
       "      <th>3041</th>\n",
       "      <td>74.453751</td>\n",
       "      <td>143.839996</td>\n",
       "      <td>175.229004</td>\n",
       "      <td>122.475998</td>\n",
       "      <td>2.058000</td>\n",
       "      <td>22.903999</td>\n",
       "      <td>279.687012</td>\n",
       "      <td>27.752001</td>\n",
       "      <td>82.122002</td>\n",
       "      <td>3.95081</td>\n",
       "      <td>...</td>\n",
       "      <td>717</td>\n",
       "      <td>182681</td>\n",
       "      <td>73786</td>\n",
       "      <td>43376</td>\n",
       "      <td>182431</td>\n",
       "      <td>70784</td>\n",
       "      <td>24862</td>\n",
       "      <td>1</td>\n",
       "      <td>2</td>\n",
       "      <td>0.6</td>\n",
       "    </tr>\n",
       "    <tr>\n",
       "      <th>3042</th>\n",
       "      <td>74.270248</td>\n",
       "      <td>13.119000</td>\n",
       "      <td>55.518002</td>\n",
       "      <td>649.466980</td>\n",
       "      <td>28.340000</td>\n",
       "      <td>8.239000</td>\n",
       "      <td>82.639000</td>\n",
       "      <td>39.648998</td>\n",
       "      <td>374.799011</td>\n",
       "      <td>3.95159</td>\n",
       "      <td>...</td>\n",
       "      <td>11563</td>\n",
       "      <td>261575</td>\n",
       "      <td>159934</td>\n",
       "      <td>46996</td>\n",
       "      <td>251585</td>\n",
       "      <td>66086</td>\n",
       "      <td>24388</td>\n",
       "      <td>1</td>\n",
       "      <td>1</td>\n",
       "      <td>0.4</td>\n",
       "    </tr>\n",
       "    <tr>\n",
       "      <th>3043</th>\n",
       "      <td>74.080750</td>\n",
       "      <td>162.042999</td>\n",
       "      <td>54.918999</td>\n",
       "      <td>118.927002</td>\n",
       "      <td>65.236000</td>\n",
       "      <td>2.030000</td>\n",
       "      <td>123.248001</td>\n",
       "      <td>60.918999</td>\n",
       "      <td>189.567001</td>\n",
       "      <td>3.94043</td>\n",
       "      <td>...</td>\n",
       "      <td>18854</td>\n",
       "      <td>253593</td>\n",
       "      <td>88171</td>\n",
       "      <td>37067</td>\n",
       "      <td>251200</td>\n",
       "      <td>61019</td>\n",
       "      <td>44259</td>\n",
       "      <td>0</td>\n",
       "      <td>0</td>\n",
       "      <td>0.6</td>\n",
       "    </tr>\n",
       "    <tr>\n",
       "      <th>3044</th>\n",
       "      <td>74.025253</td>\n",
       "      <td>31.649000</td>\n",
       "      <td>50.007999</td>\n",
       "      <td>58.807999</td>\n",
       "      <td>12.690000</td>\n",
       "      <td>44.328999</td>\n",
       "      <td>288.152008</td>\n",
       "      <td>50.014999</td>\n",
       "      <td>105.252998</td>\n",
       "      <td>3.93733</td>\n",
       "      <td>...</td>\n",
       "      <td>5228</td>\n",
       "      <td>261319</td>\n",
       "      <td>103193</td>\n",
       "      <td>42040</td>\n",
       "      <td>185459</td>\n",
       "      <td>78004</td>\n",
       "      <td>40929</td>\n",
       "      <td>2</td>\n",
       "      <td>1</td>\n",
       "      <td>0.8</td>\n",
       "    </tr>\n",
       "    <tr>\n",
       "      <th>...</th>\n",
       "      <td>...</td>\n",
       "      <td>...</td>\n",
       "      <td>...</td>\n",
       "      <td>...</td>\n",
       "      <td>...</td>\n",
       "      <td>...</td>\n",
       "      <td>...</td>\n",
       "      <td>...</td>\n",
       "      <td>...</td>\n",
       "      <td>...</td>\n",
       "      <td>...</td>\n",
       "      <td>...</td>\n",
       "      <td>...</td>\n",
       "      <td>...</td>\n",
       "      <td>...</td>\n",
       "      <td>...</td>\n",
       "      <td>...</td>\n",
       "      <td>...</td>\n",
       "      <td>...</td>\n",
       "      <td>...</td>\n",
       "      <td>...</td>\n",
       "    </tr>\n",
       "    <tr>\n",
       "      <th>4339</th>\n",
       "      <td>74.273750</td>\n",
       "      <td>18.764999</td>\n",
       "      <td>33.639000</td>\n",
       "      <td>117.452003</td>\n",
       "      <td>39.597000</td>\n",
       "      <td>50.498001</td>\n",
       "      <td>74.149002</td>\n",
       "      <td>20.868000</td>\n",
       "      <td>18.261999</td>\n",
       "      <td>3.94685</td>\n",
       "      <td>...</td>\n",
       "      <td>40554</td>\n",
       "      <td>159986</td>\n",
       "      <td>48966</td>\n",
       "      <td>48442</td>\n",
       "      <td>283146</td>\n",
       "      <td>142509</td>\n",
       "      <td>57726</td>\n",
       "      <td>0</td>\n",
       "      <td>0</td>\n",
       "      <td>0.8</td>\n",
       "    </tr>\n",
       "    <tr>\n",
       "      <th>4340</th>\n",
       "      <td>72.463753</td>\n",
       "      <td>251.203003</td>\n",
       "      <td>219.384995</td>\n",
       "      <td>55.514000</td>\n",
       "      <td>94.742996</td>\n",
       "      <td>10.883000</td>\n",
       "      <td>178.255997</td>\n",
       "      <td>41.347000</td>\n",
       "      <td>76.217003</td>\n",
       "      <td>3.88999</td>\n",
       "      <td>...</td>\n",
       "      <td>85677</td>\n",
       "      <td>175987</td>\n",
       "      <td>72651</td>\n",
       "      <td>21368</td>\n",
       "      <td>171343</td>\n",
       "      <td>91163</td>\n",
       "      <td>21857</td>\n",
       "      <td>2</td>\n",
       "      <td>0</td>\n",
       "      <td>0.4</td>\n",
       "    </tr>\n",
       "    <tr>\n",
       "      <th>4341</th>\n",
       "      <td>74.275749</td>\n",
       "      <td>185.253006</td>\n",
       "      <td>240.988998</td>\n",
       "      <td>14.487000</td>\n",
       "      <td>8.824000</td>\n",
       "      <td>6.730000</td>\n",
       "      <td>298.583008</td>\n",
       "      <td>22.106001</td>\n",
       "      <td>240.589996</td>\n",
       "      <td>3.94569</td>\n",
       "      <td>...</td>\n",
       "      <td>43735</td>\n",
       "      <td>171440</td>\n",
       "      <td>47766</td>\n",
       "      <td>31880</td>\n",
       "      <td>199783</td>\n",
       "      <td>67387</td>\n",
       "      <td>32849</td>\n",
       "      <td>2</td>\n",
       "      <td>1</td>\n",
       "      <td>0.6</td>\n",
       "    </tr>\n",
       "    <tr>\n",
       "      <th>4342</th>\n",
       "      <td>74.070251</td>\n",
       "      <td>31.472000</td>\n",
       "      <td>31.497999</td>\n",
       "      <td>181.110992</td>\n",
       "      <td>24.521999</td>\n",
       "      <td>37.318001</td>\n",
       "      <td>178.746994</td>\n",
       "      <td>63.103001</td>\n",
       "      <td>93.757004</td>\n",
       "      <td>3.94233</td>\n",
       "      <td>...</td>\n",
       "      <td>75388</td>\n",
       "      <td>153544</td>\n",
       "      <td>50833</td>\n",
       "      <td>40085</td>\n",
       "      <td>158070</td>\n",
       "      <td>69460</td>\n",
       "      <td>34341</td>\n",
       "      <td>0</td>\n",
       "      <td>1</td>\n",
       "      <td>0.6</td>\n",
       "    </tr>\n",
       "    <tr>\n",
       "      <th>4343</th>\n",
       "      <td>73.858749</td>\n",
       "      <td>70.873001</td>\n",
       "      <td>295.174988</td>\n",
       "      <td>49.564999</td>\n",
       "      <td>80.184998</td>\n",
       "      <td>49.592999</td>\n",
       "      <td>126.412003</td>\n",
       "      <td>49.933998</td>\n",
       "      <td>22.080999</td>\n",
       "      <td>3.94159</td>\n",
       "      <td>...</td>\n",
       "      <td>17716</td>\n",
       "      <td>222598</td>\n",
       "      <td>74148</td>\n",
       "      <td>32471</td>\n",
       "      <td>303327</td>\n",
       "      <td>114423</td>\n",
       "      <td>25010</td>\n",
       "      <td>2</td>\n",
       "      <td>1</td>\n",
       "      <td>0.6</td>\n",
       "    </tr>\n",
       "  </tbody>\n",
       "</table>\n",
       "<p>1304 rows × 58 columns</p>\n",
       "</div>"
      ],
      "text/plain": [
       "              1           2           3           4          5          6  \\\n",
       "3040  73.733749  390.665985   30.945000   71.028999  96.111000  36.808998   \n",
       "3041  74.453751  143.839996  175.229004  122.475998   2.058000  22.903999   \n",
       "3042  74.270248   13.119000   55.518002  649.466980  28.340000   8.239000   \n",
       "3043  74.080750  162.042999   54.918999  118.927002  65.236000   2.030000   \n",
       "3044  74.025253   31.649000   50.007999   58.807999  12.690000  44.328999   \n",
       "...         ...         ...         ...         ...        ...        ...   \n",
       "4339  74.273750   18.764999   33.639000  117.452003  39.597000  50.498001   \n",
       "4340  72.463753  251.203003  219.384995   55.514000  94.742996  10.883000   \n",
       "4341  74.275749  185.253006  240.988998   14.487000   8.824000   6.730000   \n",
       "4342  74.070251   31.472000   31.497999  181.110992  24.521999  37.318001   \n",
       "4343  73.858749   70.873001  295.174988   49.564999  80.184998  49.592999   \n",
       "\n",
       "               7          8           9       11  ...     50      51      52  \\\n",
       "3040   84.004997  29.913000   48.928001  3.92931  ...   2615  201435   62964   \n",
       "3041  279.687012  27.752001   82.122002  3.95081  ...    717  182681   73786   \n",
       "3042   82.639000  39.648998  374.799011  3.95159  ...  11563  261575  159934   \n",
       "3043  123.248001  60.918999  189.567001  3.94043  ...  18854  253593   88171   \n",
       "3044  288.152008  50.014999  105.252998  3.93733  ...   5228  261319  103193   \n",
       "...          ...        ...         ...      ...  ...    ...     ...     ...   \n",
       "4339   74.149002  20.868000   18.261999  3.94685  ...  40554  159986   48966   \n",
       "4340  178.255997  41.347000   76.217003  3.88999  ...  85677  175987   72651   \n",
       "4341  298.583008  22.106001  240.589996  3.94569  ...  43735  171440   47766   \n",
       "4342  178.746994  63.103001   93.757004  3.94233  ...  75388  153544   50833   \n",
       "4343  126.412003  49.933998   22.080999  3.94159  ...  17716  222598   74148   \n",
       "\n",
       "         53      54      55     56  10  prediction_label  prediction_score  \n",
       "3040  81856  270474  145293  44332   2                 2               0.6  \n",
       "3041  43376  182431   70784  24862   1                 2               0.6  \n",
       "3042  46996  251585   66086  24388   1                 1               0.4  \n",
       "3043  37067  251200   61019  44259   0                 0               0.6  \n",
       "3044  42040  185459   78004  40929   2                 1               0.8  \n",
       "...     ...     ...     ...    ...  ..               ...               ...  \n",
       "4339  48442  283146  142509  57726   0                 0               0.8  \n",
       "4340  21368  171343   91163  21857   2                 0               0.4  \n",
       "4341  31880  199783   67387  32849   2                 1               0.6  \n",
       "4342  40085  158070   69460  34341   0                 1               0.6  \n",
       "4343  32471  303327  114423  25010   2                 1               0.6  \n",
       "\n",
       "[1304 rows x 58 columns]"
      ]
     },
     "execution_count": 25,
     "metadata": {},
     "output_type": "execute_result"
    }
   ],
   "source": [
    "predict_model(best_model) "
   ]
  },
  {
   "cell_type": "markdown",
   "id": "1a097345",
   "metadata": {},
   "source": [
    "To conclude, we can use the Quadratic Discriminant Analysis to predict what will be the value of column '10' in the new data. However, it is important to note that although the model has the highest AUC, still it's accurate only to 34.10% and AUC is 0.4999"
   ]
  }
 ],
 "metadata": {
  "kernelspec": {
   "display_name": "Python 3 (ipykernel)",
   "language": "python",
   "name": "python3"
  },
  "language_info": {
   "codemirror_mode": {
    "name": "ipython",
    "version": 3
   },
   "file_extension": ".py",
   "mimetype": "text/x-python",
   "name": "python",
   "nbconvert_exporter": "python",
   "pygments_lexer": "ipython3",
   "version": "3.10.0"
  }
 },
 "nbformat": 4,
 "nbformat_minor": 5
}
